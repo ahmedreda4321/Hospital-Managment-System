{
 "cells": [
  {
   "cell_type": "markdown",
   "id": "998c4d22",
   "metadata": {
    "papermill": {
     "duration": 0.005317,
     "end_time": "2023-06-18T07:47:55.256102",
     "exception": false,
     "start_time": "2023-06-18T07:47:55.250785",
     "status": "completed"
    },
    "tags": []
   },
   "source": [
    "# Overview\n",
    "\n",
    "This notebook implements Doctor Specialist Recommendation System for Medical Dataset using Sklearn.\n",
    "* Model Accuracy is 100%.\n",
    "* Model Saved as pkl file.\n",
    "\n",
    "#### Highlights of this notebook:\n",
    "\n",
    "1. Loading Libraries.\n",
    "2. Creaing Model.\n",
    "3. Testing Model Accuracy.\n",
    "4. Saving Model as pkl file.\n",
    "\n",
    "## <font size=4 color='blue'>If you find this notebook useful, leave an upvote, that motivates me to write more such notebooks.</font>"
   ]
  },
  {
   "cell_type": "markdown",
   "id": "07fd037a",
   "metadata": {
    "papermill": {
     "duration": 0.004436,
     "end_time": "2023-06-18T07:47:55.266033",
     "exception": false,
     "start_time": "2023-06-18T07:47:55.261597",
     "status": "completed"
    },
    "tags": []
   },
   "source": [
    "## Loading Libraries and Dataet"
   ]
  },
  {
   "cell_type": "code",
   "execution_count": 1,
   "id": "4e279f4d",
   "metadata": {
    "execution": {
     "iopub.execute_input": "2023-06-18T07:47:55.277287Z",
     "iopub.status.busy": "2023-06-18T07:47:55.276829Z",
     "iopub.status.idle": "2023-06-18T07:47:56.686762Z",
     "shell.execute_reply": "2023-06-18T07:47:56.685902Z"
    },
    "papermill": {
     "duration": 1.418669,
     "end_time": "2023-06-18T07:47:56.689431",
     "exception": false,
     "start_time": "2023-06-18T07:47:55.270762",
     "status": "completed"
    },
    "tags": []
   },
   "outputs": [],
   "source": [
    "import pandas as pd\n",
    "import numpy as np\n",
    "import seaborn as sns\n",
    "import matplotlib.pyplot as plt"
   ]
  },
  {
   "cell_type": "code",
   "execution_count": 2,
   "id": "8d7a2329",
   "metadata": {
    "execution": {
     "iopub.execute_input": "2023-06-18T07:47:56.701091Z",
     "iopub.status.busy": "2023-06-18T07:47:56.700432Z",
     "iopub.status.idle": "2023-06-18T07:48:10.218981Z",
     "shell.execute_reply": "2023-06-18T07:48:10.218115Z"
    },
    "papermill": {
     "duration": 13.527089,
     "end_time": "2023-06-18T07:48:10.221381",
     "exception": false,
     "start_time": "2023-06-18T07:47:56.694292",
     "status": "completed"
    },
    "tags": []
   },
   "outputs": [
    {
     "data": {
      "text/html": [
       "<div>\n",
       "<style scoped>\n",
       "    .dataframe tbody tr th:only-of-type {\n",
       "        vertical-align: middle;\n",
       "    }\n",
       "\n",
       "    .dataframe tbody tr th {\n",
       "        vertical-align: top;\n",
       "    }\n",
       "\n",
       "    .dataframe thead th {\n",
       "        text-align: right;\n",
       "    }\n",
       "</style>\n",
       "<table border=\"1\" class=\"dataframe\">\n",
       "  <thead>\n",
       "    <tr style=\"text-align: right;\">\n",
       "      <th></th>\n",
       "      <th>Unnamed: 0</th>\n",
       "      <th>itching</th>\n",
       "      <th>skin_rash</th>\n",
       "      <th>nodal_skin_eruptions</th>\n",
       "      <th>dischromic _patches</th>\n",
       "      <th>continuous_sneezing</th>\n",
       "      <th>shivering</th>\n",
       "      <th>chills</th>\n",
       "      <th>watering_from_eyes</th>\n",
       "      <th>stomach_pain</th>\n",
       "      <th>...</th>\n",
       "      <th>foul_smell_of urine</th>\n",
       "      <th>continuous_feel_of_urine</th>\n",
       "      <th>skin_peeling</th>\n",
       "      <th>silver_like_dusting</th>\n",
       "      <th>small_dents_in_nails</th>\n",
       "      <th>inflammatory_nails</th>\n",
       "      <th>blister</th>\n",
       "      <th>red_sore_around_nose</th>\n",
       "      <th>yellow_crust_ooze</th>\n",
       "      <th>Disease</th>\n",
       "    </tr>\n",
       "  </thead>\n",
       "  <tbody>\n",
       "    <tr>\n",
       "      <th>0</th>\n",
       "      <td>0</td>\n",
       "      <td>1</td>\n",
       "      <td>1</td>\n",
       "      <td>1</td>\n",
       "      <td>1</td>\n",
       "      <td>0</td>\n",
       "      <td>0</td>\n",
       "      <td>0</td>\n",
       "      <td>0</td>\n",
       "      <td>0</td>\n",
       "      <td>...</td>\n",
       "      <td>0</td>\n",
       "      <td>0</td>\n",
       "      <td>0</td>\n",
       "      <td>0</td>\n",
       "      <td>0</td>\n",
       "      <td>0</td>\n",
       "      <td>0</td>\n",
       "      <td>0</td>\n",
       "      <td>0</td>\n",
       "      <td>Dermatologist</td>\n",
       "    </tr>\n",
       "    <tr>\n",
       "      <th>1</th>\n",
       "      <td>1</td>\n",
       "      <td>0</td>\n",
       "      <td>1</td>\n",
       "      <td>1</td>\n",
       "      <td>1</td>\n",
       "      <td>0</td>\n",
       "      <td>0</td>\n",
       "      <td>0</td>\n",
       "      <td>0</td>\n",
       "      <td>0</td>\n",
       "      <td>...</td>\n",
       "      <td>0</td>\n",
       "      <td>0</td>\n",
       "      <td>0</td>\n",
       "      <td>0</td>\n",
       "      <td>0</td>\n",
       "      <td>0</td>\n",
       "      <td>0</td>\n",
       "      <td>0</td>\n",
       "      <td>0</td>\n",
       "      <td>Dermatologist</td>\n",
       "    </tr>\n",
       "    <tr>\n",
       "      <th>2</th>\n",
       "      <td>2</td>\n",
       "      <td>1</td>\n",
       "      <td>0</td>\n",
       "      <td>1</td>\n",
       "      <td>1</td>\n",
       "      <td>0</td>\n",
       "      <td>0</td>\n",
       "      <td>0</td>\n",
       "      <td>0</td>\n",
       "      <td>0</td>\n",
       "      <td>...</td>\n",
       "      <td>0</td>\n",
       "      <td>0</td>\n",
       "      <td>0</td>\n",
       "      <td>0</td>\n",
       "      <td>0</td>\n",
       "      <td>0</td>\n",
       "      <td>0</td>\n",
       "      <td>0</td>\n",
       "      <td>0</td>\n",
       "      <td>Dermatologist</td>\n",
       "    </tr>\n",
       "    <tr>\n",
       "      <th>3</th>\n",
       "      <td>3</td>\n",
       "      <td>1</td>\n",
       "      <td>1</td>\n",
       "      <td>0</td>\n",
       "      <td>1</td>\n",
       "      <td>0</td>\n",
       "      <td>0</td>\n",
       "      <td>0</td>\n",
       "      <td>0</td>\n",
       "      <td>0</td>\n",
       "      <td>...</td>\n",
       "      <td>0</td>\n",
       "      <td>0</td>\n",
       "      <td>0</td>\n",
       "      <td>0</td>\n",
       "      <td>0</td>\n",
       "      <td>0</td>\n",
       "      <td>0</td>\n",
       "      <td>0</td>\n",
       "      <td>0</td>\n",
       "      <td>Dermatologist</td>\n",
       "    </tr>\n",
       "    <tr>\n",
       "      <th>4</th>\n",
       "      <td>4</td>\n",
       "      <td>1</td>\n",
       "      <td>1</td>\n",
       "      <td>1</td>\n",
       "      <td>0</td>\n",
       "      <td>0</td>\n",
       "      <td>0</td>\n",
       "      <td>0</td>\n",
       "      <td>0</td>\n",
       "      <td>0</td>\n",
       "      <td>...</td>\n",
       "      <td>0</td>\n",
       "      <td>0</td>\n",
       "      <td>0</td>\n",
       "      <td>0</td>\n",
       "      <td>0</td>\n",
       "      <td>0</td>\n",
       "      <td>0</td>\n",
       "      <td>0</td>\n",
       "      <td>0</td>\n",
       "      <td>Dermatologist</td>\n",
       "    </tr>\n",
       "  </tbody>\n",
       "</table>\n",
       "<p>5 rows × 133 columns</p>\n",
       "</div>"
      ],
      "text/plain": [
       "   Unnamed: 0  itching   skin_rash   nodal_skin_eruptions  \\\n",
       "0           0        1           1                      1   \n",
       "1           1        0           1                      1   \n",
       "2           2        1           0                      1   \n",
       "3           3        1           1                      0   \n",
       "4           4        1           1                      1   \n",
       "\n",
       "    dischromic _patches   continuous_sneezing   shivering   chills  \\\n",
       "0                     1                     0           0        0   \n",
       "1                     1                     0           0        0   \n",
       "2                     1                     0           0        0   \n",
       "3                     1                     0           0        0   \n",
       "4                     0                     0           0        0   \n",
       "\n",
       "    watering_from_eyes   stomach_pain  ...   foul_smell_of urine  \\\n",
       "0                    0              0  ...                     0   \n",
       "1                    0              0  ...                     0   \n",
       "2                    0              0  ...                     0   \n",
       "3                    0              0  ...                     0   \n",
       "4                    0              0  ...                     0   \n",
       "\n",
       "    continuous_feel_of_urine   skin_peeling   silver_like_dusting  \\\n",
       "0                          0              0                     0   \n",
       "1                          0              0                     0   \n",
       "2                          0              0                     0   \n",
       "3                          0              0                     0   \n",
       "4                          0              0                     0   \n",
       "\n",
       "    small_dents_in_nails   inflammatory_nails   blister  \\\n",
       "0                      0                    0         0   \n",
       "1                      0                    0         0   \n",
       "2                      0                    0         0   \n",
       "3                      0                    0         0   \n",
       "4                      0                    0         0   \n",
       "\n",
       "    red_sore_around_nose   yellow_crust_ooze        Disease  \n",
       "0                      0                   0  Dermatologist  \n",
       "1                      0                   0  Dermatologist  \n",
       "2                      0                   0  Dermatologist  \n",
       "3                      0                   0  Dermatologist  \n",
       "4                      0                   0  Dermatologist  \n",
       "\n",
       "[5 rows x 133 columns]"
      ]
     },
     "execution_count": 2,
     "metadata": {},
     "output_type": "execute_result"
    }
   ],
   "source": [
    "data = pd.read_excel(\"specialist.xlsx\")\n",
    "data.head()"
   ]
  },
  {
   "cell_type": "markdown",
   "id": "68487a7a",
   "metadata": {
    "papermill": {
     "duration": 0.005189,
     "end_time": "2023-06-18T07:48:10.231870",
     "exception": false,
     "start_time": "2023-06-18T07:48:10.226681",
     "status": "completed"
    },
    "tags": []
   },
   "source": [
    "## Training and Testing Splitting"
   ]
  },
  {
   "cell_type": "code",
   "execution_count": 3,
   "id": "2b8ac82c",
   "metadata": {
    "execution": {
     "iopub.execute_input": "2023-06-18T07:48:10.244535Z",
     "iopub.status.busy": "2023-06-18T07:48:10.243860Z",
     "iopub.status.idle": "2023-06-18T07:48:10.255789Z",
     "shell.execute_reply": "2023-06-18T07:48:10.254588Z"
    },
    "papermill": {
     "duration": 0.02124,
     "end_time": "2023-06-18T07:48:10.258538",
     "exception": false,
     "start_time": "2023-06-18T07:48:10.237298",
     "status": "completed"
    },
    "tags": []
   },
   "outputs": [
    {
     "name": "stdout",
     "output_type": "stream",
     "text": [
      "Disease\n",
      "Hepatologist          840\n",
      "Gastroenterologist    600\n",
      "Dermatologist         480\n",
      "Endocrinologist       480\n",
      "Neurologist           360\n",
      "Internal Medcine      360\n",
      "Pulmonologist         240\n",
      "Allergist             240\n",
      "Cardiologist          120\n",
      "Osteopathic           120\n",
      "Pediatrician          120\n",
      "Common Cold           120\n",
      "Cardiologist          120\n",
      "Phlebologist          120\n",
      "Osteoarthristis       120\n",
      "Rheumatologists       120\n",
      "Otolaryngologist      120\n",
      "Dermatologists        120\n",
      "Gynecologist          120\n",
      "Name: count, dtype: int64\n"
     ]
    }
   ],
   "source": [
    "x = data.drop(['Disease', 'Unnamed: 0'], axis = 1)\n",
    "y = data.Disease\n",
    "print(data.Disease.value_counts())"
   ]
  },
  {
   "cell_type": "code",
   "execution_count": 4,
   "id": "8e596c10",
   "metadata": {
    "execution": {
     "iopub.execute_input": "2023-06-18T07:48:10.270650Z",
     "iopub.status.busy": "2023-06-18T07:48:10.270210Z",
     "iopub.status.idle": "2023-06-18T07:48:10.529726Z",
     "shell.execute_reply": "2023-06-18T07:48:10.528606Z"
    },
    "papermill": {
     "duration": 0.268743,
     "end_time": "2023-06-18T07:48:10.532550",
     "exception": false,
     "start_time": "2023-06-18T07:48:10.263807",
     "status": "completed"
    },
    "tags": []
   },
   "outputs": [],
   "source": [
    "from sklearn.model_selection import train_test_split\n",
    "\n",
    "x_train, x_test, y_train , y_test = train_test_split(x ,y, random_state = 50)"
   ]
  },
  {
   "cell_type": "markdown",
   "id": "6398476d",
   "metadata": {
    "papermill": {
     "duration": 0.004892,
     "end_time": "2023-06-18T07:48:10.544379",
     "exception": false,
     "start_time": "2023-06-18T07:48:10.539487",
     "status": "completed"
    },
    "tags": []
   },
   "source": [
    "## Model Creation and Evaluation "
   ]
  },
  {
   "cell_type": "code",
   "execution_count": 5,
   "id": "fb7fba3e",
   "metadata": {
    "execution": {
     "iopub.execute_input": "2023-06-18T07:48:10.556750Z",
     "iopub.status.busy": "2023-06-18T07:48:10.556334Z",
     "iopub.status.idle": "2023-06-18T07:48:10.940791Z",
     "shell.execute_reply": "2023-06-18T07:48:10.939662Z"
    },
    "papermill": {
     "duration": 0.393963,
     "end_time": "2023-06-18T07:48:10.943535",
     "exception": false,
     "start_time": "2023-06-18T07:48:10.549572",
     "status": "completed"
    },
    "tags": []
   },
   "outputs": [],
   "source": [
    "from sklearn.ensemble import RandomForestClassifier\n",
    "from sklearn.linear_model import LogisticRegression\n",
    "from sklearn.metrics import accuracy_score"
   ]
  },
  {
   "cell_type": "code",
   "execution_count": 6,
   "id": "75c8fd5f",
   "metadata": {
    "execution": {
     "iopub.execute_input": "2023-06-18T07:48:10.956773Z",
     "iopub.status.busy": "2023-06-18T07:48:10.955732Z",
     "iopub.status.idle": "2023-06-18T07:48:12.018837Z",
     "shell.execute_reply": "2023-06-18T07:48:12.017671Z"
    },
    "papermill": {
     "duration": 1.072561,
     "end_time": "2023-06-18T07:48:12.021436",
     "exception": false,
     "start_time": "2023-06-18T07:48:10.948875",
     "status": "completed"
    },
    "tags": []
   },
   "outputs": [
    {
     "data": {
      "text/plain": [
       "1.0"
      ]
     },
     "execution_count": 6,
     "metadata": {},
     "output_type": "execute_result"
    }
   ],
   "source": [
    "model = RandomForestClassifier(n_estimators=200)\n",
    "model.fit(x_train, y_train)\n",
    "predictions = model.predict(x_test)\n",
    "accuracy_score(y_test, predictions)"
   ]
  },
  {
   "cell_type": "code",
   "execution_count": 7,
   "id": "ac962889",
   "metadata": {
    "execution": {
     "iopub.execute_input": "2023-06-18T07:48:12.034858Z",
     "iopub.status.busy": "2023-06-18T07:48:12.034093Z",
     "iopub.status.idle": "2023-06-18T07:48:12.460910Z",
     "shell.execute_reply": "2023-06-18T07:48:12.459376Z"
    },
    "papermill": {
     "duration": 0.438358,
     "end_time": "2023-06-18T07:48:12.465390",
     "exception": false,
     "start_time": "2023-06-18T07:48:12.027032",
     "status": "completed"
    },
    "tags": []
   },
   "outputs": [
    {
     "data": {
      "text/plain": [
       "1.0"
      ]
     },
     "execution_count": 7,
     "metadata": {},
     "output_type": "execute_result"
    }
   ],
   "source": [
    "model = LogisticRegression(max_iter = 1000)\n",
    "model.fit(x_train, y_train)\n",
    "predictions = model.predict(x_test)\n",
    "accuracy_score(y_test, predictions)"
   ]
  },
  {
   "cell_type": "markdown",
   "id": "18e72199",
   "metadata": {
    "papermill": {
     "duration": 0.011217,
     "end_time": "2023-06-18T07:48:12.488104",
     "exception": false,
     "start_time": "2023-06-18T07:48:12.476887",
     "status": "completed"
    },
    "tags": []
   },
   "source": [
    "## Model Saving"
   ]
  },
  {
   "cell_type": "code",
   "execution_count": 8,
   "id": "0787226c",
   "metadata": {
    "execution": {
     "iopub.execute_input": "2023-06-18T07:48:12.513875Z",
     "iopub.status.busy": "2023-06-18T07:48:12.513171Z",
     "iopub.status.idle": "2023-06-18T07:48:12.526212Z",
     "shell.execute_reply": "2023-06-18T07:48:12.524733Z"
    },
    "papermill": {
     "duration": 0.030799,
     "end_time": "2023-06-18T07:48:12.530617",
     "exception": false,
     "start_time": "2023-06-18T07:48:12.499818",
     "status": "completed"
    },
    "tags": []
   },
   "outputs": [],
   "source": [
    "import pickle\n",
    "pickle.dump(model, open('Specalist.pkl', 'wb'))"
   ]
  },
  {
   "cell_type": "markdown",
   "id": "8f0da356",
   "metadata": {
    "papermill": {
     "duration": 0.010752,
     "end_time": "2023-06-18T07:48:12.553638",
     "exception": false,
     "start_time": "2023-06-18T07:48:12.542886",
     "status": "completed"
    },
    "tags": []
   },
   "source": [
    "## <font size=4 color='blue'>If you find this notebook useful, leave an upvote, that motivates me to write more such notebooks.</font>"
   ]
  }
 ],
 "metadata": {
  "kernelspec": {
   "display_name": "Python 3",
   "language": "python",
   "name": "python3"
  },
  "language_info": {
   "codemirror_mode": {
    "name": "ipython",
    "version": 3
   },
   "file_extension": ".py",
   "mimetype": "text/x-python",
   "name": "python",
   "nbconvert_exporter": "python",
   "pygments_lexer": "ipython3",
   "version": "3.11.3"
  },
  "papermill": {
   "default_parameters": {},
   "duration": 30.871715,
   "end_time": "2023-06-18T07:48:13.691676",
   "environment_variables": {},
   "exception": null,
   "input_path": "__notebook__.ipynb",
   "output_path": "__notebook__.ipynb",
   "parameters": {},
   "start_time": "2023-06-18T07:47:42.819961",
   "version": "2.4.0"
  }
 },
 "nbformat": 4,
 "nbformat_minor": 5
}
